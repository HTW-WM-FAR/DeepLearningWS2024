{
 "cells": [
  {
   "cell_type": "code",
   "execution_count": 3,
   "id": "ddcd3d31-660e-4040-8ad9-92be5575f0bb",
   "metadata": {},
   "outputs": [],
   "source": [
    "import numpy as np\n",
    "import pandas as pd\n",
    "import matplotlib.pyplot as plt\n",
    "import seaborn as sns\n",
    "import statsmodels.api as sm\n",
    "import statsmodels.formula.api as smf\n",
    "import os\n",
    "# Set environment variable to ignore all warnings\n",
    "os.environ['PYTHONWARNINGS'] = 'ignore'\n",
    "\n",
    "import subprocess\n",
    "import time\n",
    "import random\n",
    "\n",
    "from sklearn.model_selection import StratifiedKFold\n",
    "from sklearn.model_selection import train_test_split\n",
    "from sklearn.impute import KNNImputer, SimpleImputer\n",
    "from sklearn.pipeline import Pipeline\n",
    "from sklearn.ensemble import RandomForestRegressor, RandomForestClassifier, AdaBoostClassifier, GradientBoostingClassifier\n",
    "from sklearn.compose import ColumnTransformer\n",
    "from sklearn.preprocessing import OrdinalEncoder, LabelEncoder, OneHotEncoder, StandardScaler\n",
    "from sklearn.metrics import mean_absolute_error as mae\n",
    "from sklearn.metrics import f1_score\n",
    "from sklearn.neural_network import MLPClassifier, MLPRegressor\n",
    "from sklearn.neighbors import KNeighborsClassifier, KNeighborsRegressor\n",
    "from sklearn.svm import SVC, LinearSVC, SVR\n",
    "from sklearn.naive_bayes import GaussianNB\n",
    "from sklearn.discriminant_analysis import QuadraticDiscriminantAnalysis\n",
    "from sklearn.feature_selection import RFE\n",
    "from sklearn.tree import DecisionTreeClassifier, DecisionTreeRegressor\n",
    "from sklearn.linear_model import LinearRegression, Ridge, LogisticRegression, Lasso\n",
    "from sklearn.metrics import mean_absolute_error\n",
    "from sklearn.metrics import mean_poisson_deviance\n",
    "from sklearn.metrics import mean_gamma_deviance\n",
    "from sklearn.metrics import root_mean_squared_error\n",
    "from sklearn.model_selection import RandomizedSearchCV\n",
    "from sklearn.preprocessing import LabelEncoder\n",
    "le = LabelEncoder()\n",
    "\n",
    "from statsmodels.stats.outliers_influence import variance_inflation_factor\n",
    "from statsmodels.genmod.families.links import Log\n",
    "from scipy.stats import skew\n",
    "\n",
    "from hyperopt import STATUS_OK, Trials, fmin, hp, tpe\n",
    "from hyperopt.pyll.base import scope\n",
    "\n",
    "import xgboost as xgb\n",
    "from xgboost import XGBClassifier\n",
    "from xgboost import XGBRegressor"
   ]
  },
  {
   "cell_type": "code",
   "execution_count": 5,
   "id": "4445c4f2-92aa-483b-84c0-31059062987d",
   "metadata": {},
   "outputs": [],
   "source": [
    "df = pd.read_csv('dataset.csv', index_col = 0)\n",
    "df = df.rename(columns={'agarald': 'Alter',\n",
    "                        'kon': 'Geschlecht',\n",
    "                        'zon': 'Zone',\n",
    "                        'mcklass': 'Fahrzeugtyp',\n",
    "                        'fordald': 'Fahrzeugalter',\n",
    "                        'bonuskl': 'Bonusklasse',\n",
    "                        'duration': 'Versicherungsjahre',\n",
    "                        'antskad': 'Schadenanzahl',\n",
    "                        'skadkost': 'Schadenaufwendungen'})\n",
    "df['Geschlecht'] = le.fit_transform(df['Geschlecht'])"
   ]
  },
  {
   "cell_type": "code",
   "execution_count": 7,
   "id": "83089f15-fe1f-447f-9be8-d6fa5e53884d",
   "metadata": {},
   "outputs": [],
   "source": [
    "# Claim frequency\n",
    "df1 = df[df['Versicherungsjahre'] != 0]\n",
    "train1, test1 = train_test_split(df1, test_size=0.3, random_state=777)\n",
    "\n",
    "# Define features (X) for XGB\n",
    "feature_list1 = ['Alter','Geschlecht','Zone'\n",
    "                 ,'Fahrzeugtyp','Fahrzeugalter','Bonusklasse'\n",
    "                 ,'Schadenaufwendungen']\n",
    "\n",
    "# labels\n",
    "y_train1 = train1['Schadenanzahl']\n",
    "y_test1 = test1['Schadenanzahl']\n",
    "\n",
    "# features\n",
    "X_train1 = train1[feature_list1]\n",
    "X_test1 = test1[feature_list1]\n",
    "\n",
    "# weights\n",
    "weight_train1 = train1['Versicherungsjahre']\n",
    "weight_test1 = test1['Versicherungsjahre']\n",
    "\n",
    "\n",
    "# Claim severity\n",
    "df2 = df[df['Schadenanzahl'] > 0]\n",
    "train2, test2 = train_test_split(df2, test_size=0.3, random_state=777)\n",
    "\n",
    "# Define features (X) for XGB\n",
    "feature_list2 = ['Alter','Geschlecht','Zone'\n",
    "                 ,'Fahrzeugtyp','Fahrzeugalter','Bonusklasse'\n",
    "                 ,'Versicherungsjahre']\n",
    "\n",
    "# labels\n",
    "y_train2 = train2['Schadenaufwendungen']\n",
    "y_test2 = test2['Schadenaufwendungen']\n",
    "\n",
    "# features\n",
    "X_train2 = train2[feature_list2]\n",
    "X_test2 = test2[feature_list2]\n",
    "\n",
    "# weights\n",
    "weight_train2 = train2['Schadenanzahl']\n",
    "weight_test2 = test2['Schadenanzahl']"
   ]
  },
  {
   "cell_type": "code",
   "execution_count": 9,
   "id": "7dd3eaa0-a374-4253-9fd8-bcf76aa0c059",
   "metadata": {},
   "outputs": [],
   "source": [
    "# Weighted Poisson Deviance\n",
    "def WPD(predicted, observed, exposure=None):\n",
    "    if exposure is None:\n",
    "        exposure = np.ones(len(observed))\n",
    "    \n",
    "    # Compute the numerator (weighted Poisson deviance)\n",
    "    numerator = np.sum(exposure * (predicted - observed + observed * np.log(observed / predicted)))\n",
    "    \n",
    "    # Compute the denominator (total exposure)\n",
    "    denominator = np.sum(exposure)\n",
    "    \n",
    "    # Normalize and scale\n",
    "    deviance = 200 * numerator / denominator\n",
    "    return deviance"
   ]
  },
  {
   "cell_type": "markdown",
   "id": "509c8b41-fa7b-4d07-a3df-180fbbf8080c",
   "metadata": {},
   "source": [
    "# I. Claim frequency modelling"
   ]
  },
  {
   "cell_type": "markdown",
   "id": "024a4d94-02f0-41df-a970-b897efbbc2f5",
   "metadata": {},
   "source": [
    "## I.I. Generalized Linear Model (GLM)"
   ]
  },
  {
   "cell_type": "code",
   "execution_count": 11,
   "id": "eb3a99ad-770c-4b23-bc0b-c8ce9ad3bc7a",
   "metadata": {},
   "outputs": [
    {
     "name": "stdout",
     "output_type": "stream",
     "text": [
      "Claim Frequency GLM0, Test, Actual / Predicted: 1.00 % / 1.09 %\n",
      "Poisson Deviance GLM0, Train / Test: 8.75 % / 7.50 %\n"
     ]
    },
    {
     "name": "stderr",
     "output_type": "stream",
     "text": [
      "C:\\Users\\hansa\\anaconda3\\Lib\\site-packages\\pandas\\core\\arraylike.py:399: RuntimeWarning: divide by zero encountered in log\n",
      "  result = getattr(ufunc, method)(*inputs, **kwargs)\n"
     ]
    }
   ],
   "source": [
    "# GLM0 (Intercept-Model)\n",
    "CF_0 = sum(train1.Schadenanzahl) / sum(train1.Versicherungsjahre)\n",
    "train1[\"CF_0\"] = CF_0 * train1.Versicherungsjahre\n",
    "test1[\"CF_0\"] = CF_0 * test1.Versicherungsjahre\n",
    "\n",
    "# Claim frequency actual vs predicted GLM0\n",
    "print(\"%s: %.2f %% / %.2f %%\" % (\"Claim Frequency GLM0, Test, Actual / Predicted\",\n",
    "                                 sum(test1.Schadenanzahl)/sum(test1.Versicherungsjahre) * 100,\n",
    "                                 sum(test1.CF_0)/sum(test1.Versicherungsjahre) * 100))\n",
    "\n",
    "# Poisson deviance GLM0\n",
    "print(\"%s, Train / Test: %.2f %% / %.2f %%\" % (\"Poisson Deviance GLM0\",\n",
    "                                             WPD(train1.CF_0, train1.Schadenanzahl, train1.Versicherungsjahre),\n",
    "                                             WPD(test1.CF_0, test1.Schadenanzahl, test1.Versicherungsjahre)))"
   ]
  },
  {
   "cell_type": "code",
   "execution_count": 13,
   "id": "7cf6dbf6-e781-44d0-875f-531bd7929865",
   "metadata": {},
   "outputs": [
    {
     "data": {
      "text/plain": [
       "0.10655736421128408"
      ]
     },
     "execution_count": 13,
     "metadata": {},
     "output_type": "execute_result"
    }
   ],
   "source": [
    "root_mean_squared_error(test1.Schadenanzahl, test1.CF_0)"
   ]
  },
  {
   "cell_type": "code",
   "execution_count": 17,
   "id": "98fb31c5-134e-4594-b428-4ce272af3bfa",
   "metadata": {},
   "outputs": [
    {
     "data": {
      "text/html": [
       "<table class=\"simpletable\">\n",
       "<caption>Generalized Linear Model Regression Results</caption>\n",
       "<tr>\n",
       "  <th>Dep. Variable:</th>     <td>Schadenanzahl</td>  <th>  No. Observations:  </th>  <td> 43731</td> \n",
       "</tr>\n",
       "<tr>\n",
       "  <th>Model:</th>                  <td>GLM</td>       <th>  Df Residuals:      </th>  <td> 43724</td> \n",
       "</tr>\n",
       "<tr>\n",
       "  <th>Model Family:</th>         <td>Poisson</td>     <th>  Df Model:          </th>  <td>     6</td> \n",
       "</tr>\n",
       "<tr>\n",
       "  <th>Link Function:</th>          <td>Log</td>       <th>  Scale:             </th> <td>  1.0000</td>\n",
       "</tr>\n",
       "<tr>\n",
       "  <th>Method:</th>               <td>newton</td>      <th>  Log-Likelihood:    </th> <td> -2568.7</td>\n",
       "</tr>\n",
       "<tr>\n",
       "  <th>Date:</th>            <td>Mon, 17 Feb 2025</td> <th>  Deviance:          </th> <td>  4166.4</td>\n",
       "</tr>\n",
       "<tr>\n",
       "  <th>Time:</th>                <td>15:57:18</td>     <th>  Pearson chi2:      </th> <td>1.06e+05</td>\n",
       "</tr>\n",
       "<tr>\n",
       "  <th>No. Iterations:</th>          <td>5</td>        <th>  Pseudo R-squ. (CS):</th>  <td>0.01306</td>\n",
       "</tr>\n",
       "<tr>\n",
       "  <th>Covariance Type:</th>     <td>nonrobust</td>    <th>                     </th>     <td> </td>   \n",
       "</tr>\n",
       "</table>\n",
       "<table class=\"simpletable\">\n",
       "<tr>\n",
       "        <td></td>           <th>coef</th>     <th>std err</th>      <th>z</th>      <th>P>|z|</th>  <th>[0.025</th>    <th>0.975]</th>  \n",
       "</tr>\n",
       "<tr>\n",
       "  <th>Intercept</th>     <td>   -1.2653</td> <td>    0.253</td> <td>   -5.009</td> <td> 0.000</td> <td>   -1.760</td> <td>   -0.770</td>\n",
       "</tr>\n",
       "<tr>\n",
       "  <th>Alter</th>         <td>   -0.0613</td> <td>    0.004</td> <td>  -14.809</td> <td> 0.000</td> <td>   -0.069</td> <td>   -0.053</td>\n",
       "</tr>\n",
       "<tr>\n",
       "  <th>Geschlecht</th>    <td>    0.4310</td> <td>    0.160</td> <td>    2.692</td> <td> 0.007</td> <td>    0.117</td> <td>    0.745</td>\n",
       "</tr>\n",
       "<tr>\n",
       "  <th>Zone</th>          <td>   -0.4197</td> <td>    0.036</td> <td>  -11.513</td> <td> 0.000</td> <td>   -0.491</td> <td>   -0.348</td>\n",
       "</tr>\n",
       "<tr>\n",
       "  <th>Fahrzeugtyp</th>   <td>    0.1430</td> <td>    0.034</td> <td>    4.261</td> <td> 0.000</td> <td>    0.077</td> <td>    0.209</td>\n",
       "</tr>\n",
       "<tr>\n",
       "  <th>Fahrzeugalter</th> <td>   -0.0709</td> <td>    0.008</td> <td>   -9.412</td> <td> 0.000</td> <td>   -0.086</td> <td>   -0.056</td>\n",
       "</tr>\n",
       "<tr>\n",
       "  <th>Bonusklasse</th>   <td>    0.0385</td> <td>    0.021</td> <td>    1.876</td> <td> 0.061</td> <td>   -0.002</td> <td>    0.079</td>\n",
       "</tr>\n",
       "</table>"
      ],
      "text/latex": [
       "\\begin{center}\n",
       "\\begin{tabular}{lclc}\n",
       "\\toprule\n",
       "\\textbf{Dep. Variable:}   &  Schadenanzahl   & \\textbf{  No. Observations:  } &    43731    \\\\\n",
       "\\textbf{Model:}           &       GLM        & \\textbf{  Df Residuals:      } &    43724    \\\\\n",
       "\\textbf{Model Family:}    &     Poisson      & \\textbf{  Df Model:          } &        6    \\\\\n",
       "\\textbf{Link Function:}   &       Log        & \\textbf{  Scale:             } &    1.0000   \\\\\n",
       "\\textbf{Method:}          &      newton      & \\textbf{  Log-Likelihood:    } &   -2568.7   \\\\\n",
       "\\textbf{Date:}            & Mon, 17 Feb 2025 & \\textbf{  Deviance:          } &    4166.4   \\\\\n",
       "\\textbf{Time:}            &     15:57:18     & \\textbf{  Pearson chi2:      } &  1.06e+05   \\\\\n",
       "\\textbf{No. Iterations:}  &        5         & \\textbf{  Pseudo R-squ. (CS):} &  0.01306    \\\\\n",
       "\\textbf{Covariance Type:} &    nonrobust     & \\textbf{                     } &             \\\\\n",
       "\\bottomrule\n",
       "\\end{tabular}\n",
       "\\begin{tabular}{lcccccc}\n",
       "                       & \\textbf{coef} & \\textbf{std err} & \\textbf{z} & \\textbf{P$> |$z$|$} & \\textbf{[0.025} & \\textbf{0.975]}  \\\\\n",
       "\\midrule\n",
       "\\textbf{Intercept}     &      -1.2653  &        0.253     &    -5.009  &         0.000        &       -1.760    &       -0.770     \\\\\n",
       "\\textbf{Alter}         &      -0.0613  &        0.004     &   -14.809  &         0.000        &       -0.069    &       -0.053     \\\\\n",
       "\\textbf{Geschlecht}    &       0.4310  &        0.160     &     2.692  &         0.007        &        0.117    &        0.745     \\\\\n",
       "\\textbf{Zone}          &      -0.4197  &        0.036     &   -11.513  &         0.000        &       -0.491    &       -0.348     \\\\\n",
       "\\textbf{Fahrzeugtyp}   &       0.1430  &        0.034     &     4.261  &         0.000        &        0.077    &        0.209     \\\\\n",
       "\\textbf{Fahrzeugalter} &      -0.0709  &        0.008     &    -9.412  &         0.000        &       -0.086    &       -0.056     \\\\\n",
       "\\textbf{Bonusklasse}   &       0.0385  &        0.021     &     1.876  &         0.061        &       -0.002    &        0.079     \\\\\n",
       "\\bottomrule\n",
       "\\end{tabular}\n",
       "%\\caption{Generalized Linear Model Regression Results}\n",
       "\\end{center}"
      ],
      "text/plain": [
       "<class 'statsmodels.iolib.summary.Summary'>\n",
       "\"\"\"\n",
       "                 Generalized Linear Model Regression Results                  \n",
       "==============================================================================\n",
       "Dep. Variable:          Schadenanzahl   No. Observations:                43731\n",
       "Model:                            GLM   Df Residuals:                    43724\n",
       "Model Family:                 Poisson   Df Model:                            6\n",
       "Link Function:                    Log   Scale:                          1.0000\n",
       "Method:                        newton   Log-Likelihood:                -2568.7\n",
       "Date:                Mon, 17 Feb 2025   Deviance:                       4166.4\n",
       "Time:                        15:57:18   Pearson chi2:                 1.06e+05\n",
       "No. Iterations:                     5   Pseudo R-squ. (CS):            0.01306\n",
       "Covariance Type:            nonrobust                                         \n",
       "=================================================================================\n",
       "                    coef    std err          z      P>|z|      [0.025      0.975]\n",
       "---------------------------------------------------------------------------------\n",
       "Intercept        -1.2653      0.253     -5.009      0.000      -1.760      -0.770\n",
       "Alter            -0.0613      0.004    -14.809      0.000      -0.069      -0.053\n",
       "Geschlecht        0.4310      0.160      2.692      0.007       0.117       0.745\n",
       "Zone             -0.4197      0.036    -11.513      0.000      -0.491      -0.348\n",
       "Fahrzeugtyp       0.1430      0.034      4.261      0.000       0.077       0.209\n",
       "Fahrzeugalter    -0.0709      0.008     -9.412      0.000      -0.086      -0.056\n",
       "Bonusklasse       0.0385      0.021      1.876      0.061      -0.002       0.079\n",
       "=================================================================================\n",
       "\"\"\""
      ]
     },
     "execution_count": 17,
     "metadata": {},
     "output_type": "execute_result"
    }
   ],
   "source": [
    "# GLM1\n",
    "CF_glm1 = smf.glm(\"Schadenanzahl ~ Alter + Geschlecht + Zone + Fahrzeugtyp + Fahrzeugalter + Bonusklasse\",\n",
    "                family=sm.families.Poisson(), offset = np.log(train1.Versicherungsjahre), data=train1)\n",
    "CF_glm_fit1 = CF_glm1.fit(method='newton')\n",
    "CF_glm_fit1.summary()"
   ]
  },
  {
   "cell_type": "code",
   "execution_count": 15,
   "id": "d03337db-0e1e-4b39-bb60-55c2948b06e5",
   "metadata": {},
   "outputs": [],
   "source": [
    "# Predictions GLM1\n",
    "train1[\"CF_glm_fit1\"] = CF_glm_fit1.predict(train1) * train1.Versicherungsjahre\n",
    "test1[\"CF_glm_fit1\"] = CF_glm_fit1.predict(test1) * test1.Versicherungsjahre"
   ]
  },
  {
   "cell_type": "code",
   "execution_count": 17,
   "id": "473d865a-c9fb-431f-9261-357b95ceca10",
   "metadata": {},
   "outputs": [
    {
     "name": "stdout",
     "output_type": "stream",
     "text": [
      "Claim Frequency GLM1, Test, Actual / Predicted: 1.00 % / 1.10 %\n",
      "Poisson Deviance GLM1, Train / Test: 8.49 % / 6.83 %\n"
     ]
    },
    {
     "name": "stderr",
     "output_type": "stream",
     "text": [
      "C:\\Users\\hansa\\anaconda3\\Lib\\site-packages\\pandas\\core\\arraylike.py:399: RuntimeWarning: divide by zero encountered in log\n",
      "  result = getattr(ufunc, method)(*inputs, **kwargs)\n"
     ]
    }
   ],
   "source": [
    "# Claim frequency actual vs predicted GLM1\n",
    "print(\"%s: %.2f %% / %.2f %%\" % (\"Claim Frequency GLM1, Test, Actual / Predicted\",\n",
    "                                 sum(test1.Schadenanzahl)/sum(test1.Versicherungsjahre) * 100,\n",
    "                                 sum(test1.CF_glm_fit1)/sum(test1.Versicherungsjahre) * 100))\n",
    "\n",
    "# Poisson deviance GLM1\n",
    "print(\"%s, Train / Test: %.2f %% / %.2f %%\" % (\"Poisson Deviance GLM1\",\n",
    "                                             WPD(train1.CF_glm_fit1, train1.Schadenanzahl, train1.Versicherungsjahre),\n",
    "                                             WPD(test1.CF_glm_fit1, test1.Schadenanzahl, test1.Versicherungsjahre)))"
   ]
  },
  {
   "cell_type": "code",
   "execution_count": 19,
   "id": "af630aff-370e-40a2-abca-47a675882149",
   "metadata": {},
   "outputs": [
    {
     "data": {
      "text/plain": [
       "0.1054838428622852"
      ]
     },
     "execution_count": 19,
     "metadata": {},
     "output_type": "execute_result"
    }
   ],
   "source": [
    "root_mean_squared_error(test1.Schadenanzahl, CF_glm_fit1.predict(test1))"
   ]
  },
  {
   "cell_type": "code",
   "execution_count": 21,
   "id": "78d0f007-4275-4f7f-9e63-39045b97802e",
   "metadata": {},
   "outputs": [],
   "source": [
    "# GLM2\n",
    "CF_glm2 = smf.glm(\"Schadenanzahl ~ Alter + Geschlecht + Zone + Fahrzeugtyp + Fahrzeugalter + Bonusklasse + Bonusklasse * Zone\",\n",
    "                family=sm.families.Poisson(), offset = np.log(train1.Versicherungsjahre), data=train1)\n",
    "CF_glm_fit2 = CF_glm2.fit(method='newton')\n",
    "#CF_glm_fit2.summary()"
   ]
  },
  {
   "cell_type": "code",
   "execution_count": 23,
   "id": "49bf7819-3f5e-4351-a9ad-4c1eeb80b363",
   "metadata": {},
   "outputs": [],
   "source": [
    "# Predictions GLM2\n",
    "train1[\"CF_glm_fit2\"] = CF_glm_fit2.predict(train1) * train1.Versicherungsjahre\n",
    "test1[\"CF_glm_fit2\"] = CF_glm_fit2.predict(test1) * test1.Versicherungsjahre"
   ]
  },
  {
   "cell_type": "code",
   "execution_count": 25,
   "id": "a610aba1-ab9a-438e-a539-ffb63442b711",
   "metadata": {},
   "outputs": [
    {
     "name": "stdout",
     "output_type": "stream",
     "text": [
      "Claim Frequency GLM2, Test, Actual / Predicted: 1.00 % / 1.10 %\n",
      "Poisson Deviance GLM2, Train / Test: 8.38 % / 6.76 %\n"
     ]
    },
    {
     "name": "stderr",
     "output_type": "stream",
     "text": [
      "C:\\Users\\hansa\\anaconda3\\Lib\\site-packages\\pandas\\core\\arraylike.py:399: RuntimeWarning: divide by zero encountered in log\n",
      "  result = getattr(ufunc, method)(*inputs, **kwargs)\n"
     ]
    }
   ],
   "source": [
    "# Claim frequency actual vs predicted GLM2\n",
    "print(\"%s: %.2f %% / %.2f %%\" % (\"Claim Frequency GLM2, Test, Actual / Predicted\",\n",
    "                                 sum(test1.Schadenanzahl)/sum(test1.Versicherungsjahre) * 100,\n",
    "                                 sum(test1.CF_glm_fit2)/sum(test1.Versicherungsjahre) * 100))\n",
    "\n",
    "# Poisson deviance GLM1\n",
    "print(\"%s, Train / Test: %.2f %% / %.2f %%\" % (\"Poisson Deviance GLM2\",\n",
    "                                             WPD(train1.CF_glm_fit2, train1.Schadenanzahl, train1.Versicherungsjahre),\n",
    "                                             WPD(test1.CF_glm_fit2, test1.Schadenanzahl, test1.Versicherungsjahre)))"
   ]
  },
  {
   "cell_type": "code",
   "execution_count": 27,
   "id": "b7224b09-4603-4c7e-b909-b2c9f8a80255",
   "metadata": {},
   "outputs": [
    {
     "data": {
      "text/plain": [
       "0.10545806781336066"
      ]
     },
     "execution_count": 27,
     "metadata": {},
     "output_type": "execute_result"
    }
   ],
   "source": [
    "root_mean_squared_error(test1.Schadenanzahl, CF_glm_fit2.predict(test1))"
   ]
  },
  {
   "cell_type": "markdown",
   "id": "b3cbea30-b6d3-4dd7-b612-372947068460",
   "metadata": {},
   "source": [
    "## I.II. Extreme Gradient Boosting (XGBoost)"
   ]
  },
  {
   "cell_type": "code",
   "execution_count": 29,
   "id": "05363388-0399-4a3f-886d-aeed6efa61c2",
   "metadata": {},
   "outputs": [
    {
     "name": "stdout",
     "output_type": "stream",
     "text": [
      "Claim Frequency XGB, Test, Actual / Predicted: 1.00 % / 1.01 %\n",
      "Poisson Deviance XGB, Train / Test: 0.00 % / 0.12 %\n"
     ]
    },
    {
     "name": "stderr",
     "output_type": "stream",
     "text": [
      "C:\\Users\\hansa\\anaconda3\\Lib\\site-packages\\pandas\\core\\arraylike.py:399: RuntimeWarning: divide by zero encountered in log\n",
      "  result = getattr(ufunc, method)(*inputs, **kwargs)\n"
     ]
    }
   ],
   "source": [
    "# XGB\n",
    "model_xgb = XGBRegressor(objective = 'count:poisson', eval_metric='poisson-nloglik', \n",
    "                         tree_method = 'hist')\n",
    "model_xgb_fit = model_xgb.fit(X_train1, y_train1, sample_weight = train1.Versicherungsjahre)\n",
    "\n",
    "# Predictions XGB\n",
    "train1[\"CF_XGB_fit\"] = model_xgb_fit.predict(X_train1)\n",
    "test1[\"CF_XGB_fit\"] = model_xgb_fit.predict(X_test1)\n",
    "\n",
    "# Claim frequency actual vs predicted XGB\n",
    "print(\"%s: %.2f %% / %.2f %%\" % (\"Claim Frequency XGB, Test, Actual / Predicted\",\n",
    "                                 sum(test1.Schadenanzahl)/sum(test1.Versicherungsjahre) * 100,\n",
    "                                 sum(test1.CF_XGB_fit)/sum(test1.Versicherungsjahre) * 100))\n",
    "\n",
    "# Poisson deviance XGB\n",
    "print(\"%s, Train / Test: %.2f %% / %.2f %%\" % (\"Poisson Deviance XGB\",\n",
    "                                             WPD(train1.CF_XGB_fit, train1.Schadenanzahl, train1.Versicherungsjahre),\n",
    "                                             WPD(test1.CF_XGB_fit, test1.Schadenanzahl, test1.Versicherungsjahre)))"
   ]
  },
  {
   "cell_type": "code",
   "execution_count": 31,
   "id": "992d7720-a216-44e1-b048-a9c3651fc57a",
   "metadata": {},
   "outputs": [
    {
     "data": {
      "text/plain": [
       "0.0253053878188382"
      ]
     },
     "execution_count": 31,
     "metadata": {},
     "output_type": "execute_result"
    }
   ],
   "source": [
    "root_mean_squared_error(test1.Schadenanzahl, model_xgb.predict(X_test1))"
   ]
  },
  {
   "cell_type": "markdown",
   "id": "fb177dbb-f010-4e6e-847c-39072f1b8f48",
   "metadata": {},
   "source": [
    "# II. Claim severity modelling"
   ]
  },
  {
   "cell_type": "markdown",
   "id": "00655878-fcdd-420b-8c78-8a102e3acd3c",
   "metadata": {},
   "source": [
    "## II.I. Generalized Linear Model (GLM)"
   ]
  },
  {
   "cell_type": "code",
   "execution_count": 33,
   "id": "34b7ddab-2d0e-4042-8048-920f4cf5e1f8",
   "metadata": {},
   "outputs": [
    {
     "name": "stdout",
     "output_type": "stream",
     "text": [
      "Claim Severity GLM0, Test, Actual / Predicted: 4762611.00 / 5116337.08\n"
     ]
    }
   ],
   "source": [
    "# GLM0 (Intercept-Model)\n",
    "CS_0 = sum(train2.Schadenaufwendungen) / sum(train2.Schadenanzahl)\n",
    "train2[\"CS_0\"] = CS_0 * train2.Schadenanzahl\n",
    "test2[\"CS_0\"] = CS_0 * test2.Schadenanzahl\n",
    "\n",
    "# Claim severity actual vs predicted GLM0\n",
    "print(\"%s: %.2f / %.2f\" % (\"Claim Severity GLM0, Test, Actual / Predicted\",\n",
    "                                 sum(test2.Schadenaufwendungen),\n",
    "                                 sum(test2.CS_0)))"
   ]
  },
  {
   "cell_type": "code",
   "execution_count": 35,
   "id": "b7348099-47bf-4599-86a0-54648cb7b300",
   "metadata": {},
   "outputs": [
    {
     "data": {
      "text/plain": [
       "38224.69601412378"
      ]
     },
     "execution_count": 35,
     "metadata": {},
     "output_type": "execute_result"
    }
   ],
   "source": [
    "root_mean_squared_error(test2.Schadenaufwendungen, test2.CS_0)"
   ]
  },
  {
   "cell_type": "code",
   "execution_count": 37,
   "id": "5accc83a-1d50-430a-828b-de52616f34db",
   "metadata": {},
   "outputs": [],
   "source": [
    "# GLM1\n",
    "CS_glm1 = smf.glm(\"Schadenaufwendungen ~ Alter + Geschlecht + Zone + Fahrzeugtyp + Fahrzeugalter + Bonusklasse\",\n",
    "                family=sm.families.Gamma(link=Log()), offset = np.log(train2.Schadenanzahl), data=train2)\n",
    "CS_glm_fit1 = CS_glm1.fit(method='newton')\n",
    "#CS_glm_fit1.summary()"
   ]
  },
  {
   "cell_type": "code",
   "execution_count": 39,
   "id": "a75679f8-dd8a-4778-ad4b-6fba9e7eb885",
   "metadata": {},
   "outputs": [],
   "source": [
    "# Predictions GLM1\n",
    "train2[\"CS_glm_fit1\"] = CS_glm_fit1.predict(train2) * train2.Schadenanzahl\n",
    "test2[\"CS_glm_fit1\"] = CS_glm_fit1.predict(test2) * test2.Schadenanzahl"
   ]
  },
  {
   "cell_type": "code",
   "execution_count": 41,
   "id": "373b82b8-94f4-425f-9627-b84322e64268",
   "metadata": {},
   "outputs": [
    {
     "name": "stdout",
     "output_type": "stream",
     "text": [
      "Claim Severity GLM1, Test, Actual / Predicted: 4762611.00 / 4861973.03\n"
     ]
    }
   ],
   "source": [
    "# Claim frequency actual vs predicted GLM1\n",
    "print(\"%s: %.2f / %.2f\" % (\"Claim Severity GLM1, Test, Actual / Predicted\",\n",
    "                                 sum(test2.Schadenaufwendungen),\n",
    "                                 sum(test2.CS_glm_fit1)))"
   ]
  },
  {
   "cell_type": "code",
   "execution_count": 43,
   "id": "acd5a0e8-11ea-442c-8be4-1b3dd429bdbb",
   "metadata": {},
   "outputs": [
    {
     "data": {
      "text/plain": [
       "38418.00431075823"
      ]
     },
     "execution_count": 43,
     "metadata": {},
     "output_type": "execute_result"
    }
   ],
   "source": [
    "root_mean_squared_error(test2.Schadenaufwendungen, CS_glm_fit1.predict(test2))"
   ]
  },
  {
   "cell_type": "markdown",
   "id": "d824f969-5e6c-43c3-91df-f0b9267f80e5",
   "metadata": {},
   "source": [
    "## II.II. Extreme Gradient Boosting (XGBoost)"
   ]
  },
  {
   "cell_type": "code",
   "execution_count": 45,
   "id": "72b19565-a001-421f-90c1-ef044efb0a82",
   "metadata": {},
   "outputs": [
    {
     "name": "stdout",
     "output_type": "stream",
     "text": [
      "Claim severity XGB, Test, Actual / Predicted: 4762611.00 / 4984814.42 \n"
     ]
    }
   ],
   "source": [
    "# XGB\n",
    "model_xgb2 = XGBRegressor(objective = 'reg:squarederror', eval_metric='rmse', \n",
    "                         tree_method = 'hist')\n",
    "model_xgb_fit2 = model_xgb2.fit(X_train2, y_train2)\n",
    "\n",
    "# Predictions XGB\n",
    "train2[\"CS_XGB_fit\"] = model_xgb_fit2.predict(X_train2)\n",
    "test2[\"CS_XGB_fit\"] = model_xgb_fit2.predict(X_test2)\n",
    "\n",
    "# Claim severity actual vs predicted XGB\n",
    "print(\"%s: %.2f / %.2f \" % (\"Claim severity XGB, Test, Actual / Predicted\",\n",
    "                                 sum(test2.Schadenaufwendungen),\n",
    "                                 sum(test2.CS_XGB_fit)))"
   ]
  },
  {
   "cell_type": "code",
   "execution_count": 47,
   "id": "1a1e8638-f1e9-46f1-88e0-608d96c1ae72",
   "metadata": {},
   "outputs": [
    {
     "data": {
      "text/plain": [
       "42570.22487515837"
      ]
     },
     "execution_count": 47,
     "metadata": {},
     "output_type": "execute_result"
    }
   ],
   "source": [
    "root_mean_squared_error(test2.Schadenaufwendungen, model_xgb_fit2.predict(X_test2))"
   ]
  },
  {
   "cell_type": "code",
   "execution_count": null,
   "id": "0c476bac-36d2-4272-8cbc-b8d6012b45b9",
   "metadata": {},
   "outputs": [],
   "source": [
    "param_dist = {\n",
    "    \"learning_rate\": [0.01, 0.05, 0.1],\n",
    "    \"max_depth\": [2, 3, 5, 7],\n",
    "    \"subsample\": [0.6, 0.8, 1.0],\n",
    "    \"colsample_bytree\": [0.6, 0.8, 1.0],\n",
    "    \"reg_lambda\": [0, 1, 10],\n",
    "    \"reg_alpha\": [0, 0.1, 1],\n",
    "    \"n_estimators\": [100, 300, 500]\n",
    "}\n",
    "\n",
    "xgb_reg = XGBRegressor(random_state=42)\n",
    "\n",
    "random_search = RandomizedSearchCV(\n",
    "    estimator=xgb_reg,\n",
    "    param_distributions=param_dist,\n",
    "    scoring=\"neg_mean_squared_error\",\n",
    "    n_iter=20,\n",
    "    cv=3,\n",
    "    verbose=1,\n",
    "    random_state=42\n",
    ")\n",
    "\n",
    "random_search.fit(X_train2, y_train2)\n",
    "print(\"Best parameters found:\", random_search.best_params_)"
   ]
  },
  {
   "cell_type": "code",
   "execution_count": null,
   "id": "48b1b1f9-1cd7-4bc6-98d9-bda5435bca2c",
   "metadata": {},
   "outputs": [],
   "source": [
    "# param = {'subsample': 0.6, 'reg_lambda': 10, 'reg_alpha': 1, 'n_estimators': 100, 'max_depth': 5,\n",
    "#          'learning_rate': 0.05, 'colsample_bytree': 0.8, 'objective' : 'reg:squarederror', 'eval_metric':'rmse', 'tree_method' : 'hist'}"
   ]
  },
  {
   "cell_type": "code",
   "execution_count": null,
   "id": "829ae7a7-3c6d-4e28-809d-9edd2a299adf",
   "metadata": {},
   "outputs": [],
   "source": [
    "# # XGB\n",
    "# model_xgb2 = XGBRegressor(**param)\n",
    "# model_xgb_fit2 = model_xgb2.fit(X_train2, y_train2)\n",
    "\n",
    "# # Predictions XGB\n",
    "# train2[\"CS_XGB_fit\"] = model_xgb_fit2.predict(X_train2)\n",
    "# test2[\"CS_XGB_fit\"] = model_xgb_fit2.predict(X_test2)\n",
    "\n",
    "# # Claim severity actual vs predicted XGB\n",
    "# print(\"%s: %.2f / %.2f \" % (\"Claim severity XGB, Test, Actual / Predicted\",\n",
    "#                                  sum(test2.Schadenaufwendungen),\n",
    "#                                  sum(test2.CS_XGB_fit)))"
   ]
  },
  {
   "cell_type": "code",
   "execution_count": null,
   "id": "56831cac-ed3e-4bf3-a639-eae52988184e",
   "metadata": {},
   "outputs": [],
   "source": [
    "# root_mean_squared_error(test2.Schadenaufwendungen, model_xgb2.predict(X_test2))"
   ]
  },
  {
   "cell_type": "markdown",
   "id": "bfc1f325-a9e2-49fc-bb47-827af64919d2",
   "metadata": {},
   "source": [
    "# Picture for Latex"
   ]
  },
  {
   "cell_type": "code",
   "execution_count": 22,
   "id": "ccc933a1-d073-454c-a32f-a1595351450a",
   "metadata": {},
   "outputs": [
    {
     "data": {
      "image/png": "[encoded data removed]",
      "text/plain": [
       "<Figure size 1200x600 with 2 Axes>"
      ]
     },
     "metadata": {},
     "output_type": "display_data"
    }
   ],
   "source": [
    "import matplotlib.pyplot as plt\n",
    "import networkx as nx\n",
    "\n",
    "# Create two directed graphs\n",
    "G1 = nx.DiGraph()\n",
    "G2 = nx.DiGraph()\n",
    "\n",
    "# Add nodes and edges for Tree 1 (Age-based decisions)\n",
    "G1.add_edge(\"Age < 35\", \"+100\", label=\"Yes\")\n",
    "G1.add_edge(\"Age < 35\", \"-200\", label=\"No\")\n",
    "\n",
    "# Add nodes and edges for Tree 2 (Location-based decisions)\n",
    "G2.add_edge(\"Urban\", \"+150\", label=\"Yes\")\n",
    "G2.add_edge(\"Urban\", \"-300\", label=\"No\")\n",
    "\n",
    "# Define positions for Tree 1\n",
    "pos1 = {\n",
    "    \"Age < 35\": (0, 2), \"+100\": (-1, 1), \"-200\": (1, 1)\n",
    "}\n",
    "\n",
    "# Define positions for Tree 2\n",
    "pos2 = {\n",
    "    \"Urban\": (0, 2), \"+150\": (-1, 1), \"-300\": (1, 1)\n",
    "}\n",
    "\n",
    "# Create subplots\n",
    "fig, axes = plt.subplots(1, 2, figsize=(12, 6))  # 1 row, 2 columns\n",
    "\n",
    "# Draw Tree 1 (Age-based)\n",
    "plt.sca(axes[0])\n",
    "nx.draw(G1, pos1, with_labels=True, node_color=\"lightblue\", edge_color=\"black\", node_size=3000, font_size=10)\n",
    "edge_labels1 = {(\"Age < 35\", \"+100\"): \"Yes\", (\"Age < 35\", \"-200\"): \"No\"}\n",
    "nx.draw_networkx_edge_labels(G1, pos1, edge_labels=edge_labels1, font_size=10, font_color=\"red\")\n",
    "plt.title(\"Tree 1: Age-Based Adjustment\")\n",
    "\n",
    "# Draw Tree 2 (Location-based)\n",
    "plt.sca(axes[1])\n",
    "nx.draw(G2, pos2, with_labels=True, node_color=\"lightgreen\", edge_color=\"black\", node_size=3000, font_size=10)\n",
    "edge_labels2 = {(\"Urban\", \"+150\"): \"Yes\", (\"Urban\", \"-300\"): \"No\"}\n",
    "nx.draw_networkx_edge_labels(G2, pos2, edge_labels=edge_labels2, font_size=10, font_color=\"red\")\n",
    "plt.title(\"Tree 2: Location-Based Adjustment\")\n",
    "\n",
    "# Save and display the diagram\n",
    "plt.tight_layout()\n",
    "plt.savefig(\"tree1.png\", format=\"png\", dpi=300)  # Save before plt.show()\n",
    "plt.show()\n"
   ]
  },
  {
   "cell_type": "code",
   "execution_count": null,
   "id": "f44dc802-a27e-46c5-bcd7-13abe00bf676",
   "metadata": {},
   "outputs": [],
   "source": []
  }
 ],
 "metadata": {
  "kernelspec": {
   "display_name": "Python 3 (ipykernel)",
   "language": "python",
   "name": "python3"
  },
  "language_info": {
   "codemirror_mode": {
    "name": "ipython",
    "version": 3
   },
   "file_extension": ".py",
   "mimetype": "text/x-python",
   "name": "python",
   "nbconvert_exporter": "python",
   "pygments_lexer": "ipython3",
   "version": "3.12.4"
  }
 },
 "nbformat": 4,
 "nbformat_minor": 5
}
